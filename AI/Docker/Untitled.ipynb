{
 "cells": [
  {
   "cell_type": "code",
   "execution_count": 4,
   "metadata": {},
   "outputs": [
    {
     "name": "stdout",
     "output_type": "stream",
     "text": [
      "AI  BackEnd  Untitled.ipynb  docker-compose.yml\r\n"
     ]
    }
   ],
   "source": [
    "!ls"
   ]
  },
  {
   "cell_type": "code",
   "execution_count": 2,
   "metadata": {},
   "outputs": [
    {
     "name": "stdout",
     "output_type": "stream",
     "text": [
      "app    media\t       sbin\r\n",
      "bin    mnt\t       srv\r\n",
      "boot   notebooks       sys\r\n",
      "dev    opt\t       tensorflow_gpu-1.12.0-cp35-cp35m-manylinux1_x86_64.whl\r\n",
      "etc    proc\t       tmp\r\n",
      "home   root\t       usr\r\n",
      "lib    run\t       var\r\n",
      "lib64  run_jupyter.sh\r\n"
     ]
    }
   ],
   "source": [
    "!ls .."
   ]
  },
  {
   "cell_type": "code",
   "execution_count": 3,
   "metadata": {},
   "outputs": [],
   "source": [
    "!cd /app"
   ]
  },
  {
   "cell_type": "code",
   "execution_count": 4,
   "metadata": {},
   "outputs": [
    {
     "name": "stdout",
     "output_type": "stream",
     "text": [
      "AI  BackEnd  Untitled.ipynb  docker-compose.yml\r\n"
     ]
    }
   ],
   "source": [
    "!ls"
   ]
  },
  {
   "cell_type": "code",
   "execution_count": 6,
   "metadata": {},
   "outputs": [
    {
     "name": "stdout",
     "output_type": "stream",
     "text": [
      ".  ..  .ipynb_checkpoints  AI  BackEnd\tUntitled.ipynb\tdocker-compose.yml\r\n"
     ]
    }
   ],
   "source": [
    "!ls -a"
   ]
  },
  {
   "cell_type": "code",
   "execution_count": 7,
   "metadata": {},
   "outputs": [],
   "source": [
    "!cd .."
   ]
  },
  {
   "cell_type": "code",
   "execution_count": 8,
   "metadata": {},
   "outputs": [
    {
     "name": "stdout",
     "output_type": "stream",
     "text": [
      "AI  BackEnd  Untitled.ipynb  docker-compose.yml\r\n"
     ]
    }
   ],
   "source": [
    "!ls\n"
   ]
  },
  {
   "cell_type": "code",
   "execution_count": 9,
   "metadata": {},
   "outputs": [
    {
     "name": "stdout",
     "output_type": "stream",
     "text": [
      "app    media\t       sbin\r\n",
      "bin    mnt\t       srv\r\n",
      "boot   notebooks       sys\r\n",
      "dev    opt\t       tensorflow_gpu-1.12.0-cp35-cp35m-manylinux1_x86_64.whl\r\n",
      "etc    proc\t       tmp\r\n",
      "home   root\t       usr\r\n",
      "lib    run\t       var\r\n",
      "lib64  run_jupyter.sh\r\n"
     ]
    }
   ],
   "source": [
    "!cd .. && ls\n"
   ]
  },
  {
   "cell_type": "code",
   "execution_count": 10,
   "metadata": {},
   "outputs": [
    {
     "name": "stdout",
     "output_type": "stream",
     "text": [
      "AI  BackEnd  Untitled.ipynb  docker-compose.yml\r\n"
     ]
    }
   ],
   "source": [
    "!ls"
   ]
  },
  {
   "cell_type": "code",
   "execution_count": 3,
   "metadata": {},
   "outputs": [
    {
     "name": "stdout",
     "output_type": "stream",
     "text": [
      "AI  BackEnd  Untitled.ipynb  docker-compose.yml\r\n"
     ]
    }
   ],
   "source": [
    "!cd .. && cd app &&ls"
   ]
  },
  {
   "cell_type": "code",
   "execution_count": null,
   "metadata": {},
   "outputs": [],
   "source": []
  }
 ],
 "metadata": {
  "kernelspec": {
   "display_name": "Python 3",
   "language": "python",
   "name": "python3"
  },
  "language_info": {
   "codemirror_mode": {
    "name": "ipython",
    "version": 3
   },
   "file_extension": ".py",
   "mimetype": "text/x-python",
   "name": "python",
   "nbconvert_exporter": "python",
   "pygments_lexer": "ipython3",
   "version": "3.5.2"
  }
 },
 "nbformat": 4,
 "nbformat_minor": 2
}
